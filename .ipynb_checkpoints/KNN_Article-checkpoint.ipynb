{
 "cells": [
  {
   "cell_type": "code",
   "execution_count": 1,
   "metadata": {},
   "outputs": [],
   "source": [
    "#Required Libraries\n",
    "import os\n",
    "import math\n",
    "import numpy as np\n",
    "import pandas as pd\n",
    "import matplotlib.pyplot as plt\n",
    "from sklearn.model_selection import train_test_split\n",
    "from sklearn.metrics import confusion_matrix\n",
    "from sklearn.metrics import accuracy_score\n",
    "from sklearn.neighbors import KNeighborsClassifier\n",
    "import warnings\n",
    "warnings.filterwarnings('ignore')"
   ]
  },
  {
   "cell_type": "code",
   "execution_count": 2,
   "metadata": {},
   "outputs": [
    {
     "data": {
      "text/html": [
       "<div>\n",
       "<style scoped>\n",
       "    .dataframe tbody tr th:only-of-type {\n",
       "        vertical-align: middle;\n",
       "    }\n",
       "\n",
       "    .dataframe tbody tr th {\n",
       "        vertical-align: top;\n",
       "    }\n",
       "\n",
       "    .dataframe thead th {\n",
       "        text-align: right;\n",
       "    }\n",
       "</style>\n",
       "<table border=\"1\" class=\"dataframe\">\n",
       "  <thead>\n",
       "    <tr style=\"text-align: right;\">\n",
       "      <th></th>\n",
       "      <th>species</th>\n",
       "      <th>island</th>\n",
       "      <th>culmen_length_mm</th>\n",
       "      <th>culmen_depth_mm</th>\n",
       "      <th>flipper_length_mm</th>\n",
       "      <th>body_mass_g</th>\n",
       "      <th>sex</th>\n",
       "    </tr>\n",
       "  </thead>\n",
       "  <tbody>\n",
       "    <tr>\n",
       "      <th>0</th>\n",
       "      <td>Adelie</td>\n",
       "      <td>Torgersen</td>\n",
       "      <td>39.1</td>\n",
       "      <td>18.7</td>\n",
       "      <td>181</td>\n",
       "      <td>3750</td>\n",
       "      <td>MALE</td>\n",
       "    </tr>\n",
       "    <tr>\n",
       "      <th>1</th>\n",
       "      <td>Adelie</td>\n",
       "      <td>Torgersen</td>\n",
       "      <td>39.5</td>\n",
       "      <td>17.4</td>\n",
       "      <td>186</td>\n",
       "      <td>3800</td>\n",
       "      <td>FEMALE</td>\n",
       "    </tr>\n",
       "  </tbody>\n",
       "</table>\n",
       "</div>"
      ],
      "text/plain": [
       "  species     island  culmen_length_mm  culmen_depth_mm  flipper_length_mm  \\\n",
       "0  Adelie  Torgersen              39.1             18.7                181   \n",
       "1  Adelie  Torgersen              39.5             17.4                186   \n",
       "\n",
       "   body_mass_g     sex  \n",
       "0         3750    MALE  \n",
       "1         3800  FEMALE  "
      ]
     },
     "execution_count": 2,
     "metadata": {},
     "output_type": "execute_result"
    }
   ],
   "source": [
    "penguin= pd.read_csv(\"penguins.csv\")\n",
    "penguin.head(2)"
   ]
  },
  {
   "cell_type": "code",
   "execution_count": 3,
   "metadata": {},
   "outputs": [],
   "source": [
    "x = penguin[['culmen_length_mm','culmen_depth_mm','flipper_length_mm','body_mass_g']]\n",
    "y = penguin[['species']]"
   ]
  },
  {
   "cell_type": "code",
   "execution_count": 4,
   "metadata": {},
   "outputs": [],
   "source": [
    "np.random.seed(0)\n",
    "X_train, X_test, y_train, y_test = train_test_split(x, y,test_size = 0.2, stratify = y,random_state = 4)"
   ]
  },
  {
   "cell_type": "code",
   "execution_count": 5,
   "metadata": {},
   "outputs": [],
   "source": [
    "X_test = np.array(X_test)"
   ]
  },
  {
   "cell_type": "code",
   "execution_count": 6,
   "metadata": {},
   "outputs": [],
   "source": [
    "X_train = np.array(X_train)"
   ]
  },
  {
   "cell_type": "code",
   "execution_count": 7,
   "metadata": {},
   "outputs": [],
   "source": [
    "y_train = np.array(y_train)"
   ]
  },
  {
   "cell_type": "code",
   "execution_count": 8,
   "metadata": {},
   "outputs": [],
   "source": [
    "y_test = np.array(y_test)"
   ]
  },
  {
   "cell_type": "code",
   "execution_count": 9,
   "metadata": {},
   "outputs": [],
   "source": [
    "def knn_modified(X_train,y_train,X_test,k):\n",
    "    pred = []\n",
    "    for j in range(len(X_test)):\n",
    "        distance = []\n",
    "        min_dist = math.inf\n",
    "        for i in range(len(X_train)):\n",
    "            eulidean_distance = np.sqrt(np.sum((X_test[j,] - X_train[i,])**2))\n",
    "            if eulidean_distance < min_dist:\n",
    "                distance.append((eulidean_distance, i))\n",
    "            else:\n",
    "                continue\n",
    "        \n",
    "        #Sort the list by distance\n",
    "        distance.sort()\n",
    "    \n",
    "        #Get the row index of its nearest neighbour\n",
    "        neighbours = []\n",
    "        \n",
    "        for j in range(k):\n",
    "            neighbours.append(distance[j][1])\n",
    "        \n",
    "        #Append the actual target in a list\n",
    "        target = []\n",
    "        for l in range(k):\n",
    "            target.append(np.array(y_train)[neighbours[l]][0])\n",
    "\n",
    "        #Create a function for counting\n",
    "        count = {}\n",
    "        for t in target:\n",
    "            count[t] = count.get(t,0) + 1\n",
    "        \n",
    "        #Create a list with (value, key) pair \n",
    "        pairs = []\n",
    "        for key in count:\n",
    "            pairs.append((count[key], key))\n",
    "        \n",
    "        #Sort the pair and get the most occurring word\n",
    "        pairs.sort(reverse=True)\n",
    "        if k%2 == 0:\n",
    "            even = []\n",
    "            for i in range(0,len(pairs)):\n",
    "                if pairs[0][0] == pairs[i][0]:\n",
    "                    even.append(pairs[i][1])\n",
    "            #print('Arranging in decreasing order: ',even)\n",
    "            for j in neighbours:\n",
    "                if y_train[j][0] in even:\n",
    "                    pred.append(y_train[j][0])\n",
    "                    #print('Value with the least distance classifies: ',y_train[j][0])\n",
    "                    #print('Picking classifier based on least distance: ',y_train[j][0])\n",
    "                    break\n",
    "                else:\n",
    "                    pred.append(pairs[0][1])\n",
    "                    break\n",
    "        else:\n",
    "            pred.append(pairs[0][1])\n",
    "        \n",
    "    return(pred)"
   ]
  },
  {
   "cell_type": "code",
   "execution_count": 10,
   "metadata": {},
   "outputs": [],
   "source": [
    "n = 2"
   ]
  },
  {
   "cell_type": "code",
   "execution_count": 11,
   "metadata": {},
   "outputs": [],
   "source": [
    "pred = knn_modified(X_train,y_train,X_test,k=n)"
   ]
  },
  {
   "cell_type": "code",
   "execution_count": 12,
   "metadata": {},
   "outputs": [],
   "source": [
    "\n",
    "neighbors = list(range(1,11))\n",
    "\n",
    "scores = []\n",
    "\n",
    "for k in neighbors:\n",
    "    knn = KNeighborsClassifier(n_neighbors=k,algorithm='brute', metric='euclidean')\n",
    "    pred1 = knn.fit(X_train, y_train)\n",
    "    pred = pred1.predict(X_test)\n",
    "    accuracy =  accuracy_score(y_test, pred)\n",
    "    scores.append(accuracy)"
   ]
  },
  {
   "cell_type": "code",
   "execution_count": 13,
   "metadata": {},
   "outputs": [],
   "source": [
    "scores1 = []\n",
    "neighbors = list(range(1,11))\n",
    "for i in neighbors:\n",
    "    pred = knn_modified(X_train,y_train,X_test,k=i)\n",
    "    accuracy =  accuracy_score(y_test, pred)\n",
    "    scores1.append(accuracy)"
   ]
  },
  {
   "cell_type": "code",
   "execution_count": 14,
   "metadata": {},
   "outputs": [
    {
     "data": {
      "image/png": "[encoded data removed]",
      "text/plain": [
       "<Figure size 720x360 with 2 Axes>"
      ]
     },
     "metadata": {
      "needs_background": "light"
     },
     "output_type": "display_data"
    }
   ],
   "source": [
    "MSE = [ x for x in scores]\n",
    "plt.figure(figsize=(10, 5))\n",
    "MSE1 = [ x for x in scores1]\n",
    "plt.subplot(1,2,1)\n",
    "plt.plot(neighbors, MSE)\n",
    "plt.xlabel('Number of Neighbors K')\n",
    "plt.ylabel('Accuracy')\n",
    "plt.title('KNN')\n",
    "plt.subplot(1,2,2)\n",
    "plt.plot(neighbors, MSE1)\n",
    "plt.xlabel('Number of Neighbors K')\n",
    "plt.ylabel('Accuracy')\n",
    "plt.title('KNN')\n",
    "plt.show()"
   ]
  },
  {
   "cell_type": "code",
   "execution_count": 15,
   "metadata": {},
   "outputs": [
    {
     "name": "stdout",
     "output_type": "stream",
     "text": [
      "0.8059701492537313 , 0.8059701492537313\n",
      "0.7910447761194029 , 0.8059701492537313\n",
      "0.7611940298507462 , 0.7611940298507462\n",
      "0.746268656716418 , 0.7910447761194029\n",
      "0.7611940298507462 , 0.7761194029850746\n",
      "0.7761194029850746 , 0.7910447761194029\n",
      "0.7313432835820896 , 0.746268656716418\n",
      "0.746268656716418 , 0.746268656716418\n",
      "0.746268656716418 , 0.746268656716418\n",
      "0.746268656716418 , 0.7761194029850746\n"
     ]
    }
   ],
   "source": [
    "for i in range(0,len(scores)):\n",
    "    print(scores[i],',',scores1[i])"
   ]
  },
  {
   "cell_type": "code",
   "execution_count": null,
   "metadata": {},
   "outputs": [],
   "source": []
  }
 ],
 "metadata": {
  "kernelspec": {
   "display_name": "Python 3",
   "language": "python",
   "name": "python3"
  },
  "language_info": {
   "codemirror_mode": {
    "name": "ipython",
    "version": 3
   },
   "file_extension": ".py",
   "mimetype": "text/x-python",
   "name": "python",
   "nbconvert_exporter": "python",
   "pygments_lexer": "ipython3",
   "version": "3.8.3"
  }
 },
 "nbformat": 4,
 "nbformat_minor": 4
}
